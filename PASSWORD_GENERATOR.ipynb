{
 "cells": [
  {
   "cell_type": "code",
   "execution_count": 1,
   "id": "165fd590-3896-4571-92ff-d6fef4bc2672",
   "metadata": {},
   "outputs": [
    {
     "name": "stdout",
     "output_type": "stream",
     "text": [
      "Enter type of password\n",
      "1. Strong\n",
      "2. Normal\n",
      "3. Easy\n",
      "\n"
     ]
    },
    {
     "name": "stdin",
     "output_type": "stream",
     "text": [
      "Enter your choice : 1\n"
     ]
    },
    {
     "name": "stdout",
     "output_type": "stream",
     "text": [
      "Password : r$Q3t+908\n"
     ]
    }
   ],
   "source": [
    "import random\n",
    "\n",
    "def passwordgenerator(type):\n",
    "       a=\"\"\n",
    "       list1=[\"A\", \"B\", \"C\", \"D\", \"E\", \"F\", \"G\", \"H\", \"I\", \"J\", \"K\", \"L\", \"M\", \"N\", \"O\", \"P\", \"Q\", \"R\", \"S\", \"T\", \"U\", \"V\", \"W\",\n",
    "              \"X\", \"Y\", \"Z\", \"a\", \"b\", \"c\", \"d\", \"e\", \"f\", \"g\", \"h\", \"i\", \"j\", \"k\", \"l\", \"m\", \"n\", \"o\", \"p\", \"q\", \"r\", \"s\", \"t\", \"u\", \n",
    "              \"v\", \"w\", \"x\", \"y\", \"z\"]\n",
    "       list2=[0,1,2,3,4,5,6,7,8,9]\n",
    "       list3= [\"~\",\"!\",\"@\",\"$\",\"%\",\"^\",\"&\",\"*\",\"_\",\"-\",\"+\",\"=\"]\n",
    "       if type==3:\n",
    "              random_number=[]\n",
    "              random_number.append(random.sample(list1,2))\n",
    "              random_number.append(random.sample(list3,1))\n",
    "              random_number.append(random.sample(list2,2))\n",
    "       if type==2:\n",
    "              random_number=[]\n",
    "              random_number.append(random.sample(list1,3))\n",
    "              random_number.append(random.sample(list2,3))\n",
    "              random_number.append(random.sample(list3,1))\n",
    "       if type==1:\n",
    "              random_number=[]\n",
    "              random_number.append(random.sample(list1,3))\n",
    "              random_number.append(random.sample(list3,2))\n",
    "              random_number.append(random.sample(list2,4))\n",
    "       for i in random_number:\n",
    "              for j in i:\n",
    "                     a=a+str(j)\n",
    "       print(\"Password :\",''.join(random.sample(a,len(a))))\n",
    "print(\"Enter type of password\")\n",
    "while True:\n",
    "    try:\n",
    "        print(\"1. Strong\\n2. Normal\\n3. Easy\\n\")\n",
    "        choice=int(input(\"Enter your choice :\"))\n",
    "        break\n",
    "    except ValueError:\n",
    "        print(r\"Please Enter ( 1 \\ 2 \\ 3):\")\n",
    "passwordgenerator(choice)"
   ]
  }
 ],
 "metadata": {
  "kernelspec": {
   "display_name": "Python 3 (ipykernel)",
   "language": "python",
   "name": "python3"
  },
  "language_info": {
   "codemirror_mode": {
    "name": "ipython",
    "version": 3
   },
   "file_extension": ".py",
   "mimetype": "text/x-python",
   "name": "python",
   "nbconvert_exporter": "python",
   "pygments_lexer": "ipython3",
   "version": "3.12.0"
  }
 },
 "nbformat": 4,
 "nbformat_minor": 5
}
