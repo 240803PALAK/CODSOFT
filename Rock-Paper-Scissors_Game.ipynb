{
 "cells": [
  {
   "cell_type": "code",
   "execution_count": null,
   "id": "4060c525-2834-47a9-9d6a-ac6229be9491",
   "metadata": {},
   "outputs": [
    {
     "name": "stdout",
     "output_type": "stream",
     "text": [
      "---------- Round 1 ----------\n",
      "\n"
     ]
    },
    {
     "name": "stdin",
     "output_type": "stream",
     "text": [
      "Enter your choice(Rock/Paper/Scissor):  paper\n"
     ]
    },
    {
     "name": "stdout",
     "output_type": "stream",
     "text": [
      "User : paper, System: rock\n",
      "User Point: 1, System Point: 0\n",
      "\n",
      "---------- Round 2 ----------\n",
      "\n"
     ]
    },
    {
     "name": "stdin",
     "output_type": "stream",
     "text": [
      "Enter your choice(Rock/Paper/Scissor):  mkocmxc\n"
     ]
    },
    {
     "name": "stdout",
     "output_type": "stream",
     "text": [
      "Invalid input True\n"
     ]
    }
   ],
   "source": [
    "import random\n",
    "userpoint=0\n",
    "systempoint=0\n",
    "def system_choice():\n",
    "    option=['scissor','rock','paper']\n",
    "    choice=random.choice(option)\n",
    "    return choice\n",
    "def user_choice():\n",
    "    global condition\n",
    "    condition=True\n",
    "    while condition:\n",
    "        choice=input(\"Enter your choice(Rock/Paper/Scissor): \").lower()\n",
    "        if choice == \"paper\"or choice ==\"scissor\"or choice ==\"rock\":\n",
    "            condition=False\n",
    "            break\n",
    "        else:\n",
    "            print(\"Invalid input\",condition)\n",
    "    return choice\n",
    "def result(user,system):\n",
    "    global userpoint,systempoint\n",
    "    if (user=='scissor'and system=='paper')or(user=='rock' and system=='scissor') or (user=='paper'and system=='rock'):\n",
    "        userpoint+=1\n",
    "    elif (system=='scissor'and user=='paper')or(system=='rock' and user=='scissor') or (system=='paper'and user=='rock'):\n",
    "        systempoint+=1\n",
    "    else:\n",
    "        pass\n",
    "    return userpoint,systempoint\n",
    "    \n",
    "for i in range(1,6):\n",
    "    print(f\"---------- Round {i} ----------\\n\")\n",
    "    user=user_choice()\n",
    "    system=system_choice()\n",
    "    print(f\"User : {user}, System: {system}\")\n",
    "    userpoint,systempoint=result(user,system)\n",
    "    print(f\"User Point: {userpoint}, System Point: {systempoint}\\n\")\n",
    "    \n",
    "if userpoint<systempoint:\n",
    "    result=\"System Won\"\n",
    "elif userpoint==systempoint:\n",
    "    result=\"It's a tie\"\n",
    "else:\n",
    "    result=\"You Won\"\n",
    "print(f\"-------------------------------------------------- {result} --------------------------------------------------\")\n",
    "    \n",
    "        "
   ]
  },
  {
   "cell_type": "code",
   "execution_count": null,
   "id": "492c1a84-7854-46f8-ae83-caae4b4ee0cd",
   "metadata": {},
   "outputs": [],
   "source": []
  }
 ],
 "metadata": {
  "kernelspec": {
   "display_name": "Python 3 (ipykernel)",
   "language": "python",
   "name": "python3"
  },
  "language_info": {
   "codemirror_mode": {
    "name": "ipython",
    "version": 3
   },
   "file_extension": ".py",
   "mimetype": "text/x-python",
   "name": "python",
   "nbconvert_exporter": "python",
   "pygments_lexer": "ipython3",
   "version": "3.12.0"
  }
 },
 "nbformat": 4,
 "nbformat_minor": 5
}
